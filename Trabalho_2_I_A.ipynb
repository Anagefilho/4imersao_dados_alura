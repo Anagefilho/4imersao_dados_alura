{
  "nbformat": 4,
  "nbformat_minor": 0,
  "metadata": {
    "colab": {
      "provenance": [],
      "authorship_tag": "ABX9TyPmZQ+Qap8FRO1ApKoqCNEk",
      "include_colab_link": true
    },
    "kernelspec": {
      "name": "python3",
      "display_name": "Python 3"
    },
    "language_info": {
      "name": "python"
    }
  },
  "cells": [
    {
      "cell_type": "markdown",
      "metadata": {
        "id": "view-in-github",
        "colab_type": "text"
      },
      "source": [
        "<a href=\"https://colab.research.google.com/github/Anagefilho/4imersao_dados_alura/blob/main/Trabalho_2_I_A.ipynb\" target=\"_parent\"><img src=\"https://colab.research.google.com/assets/colab-badge.svg\" alt=\"Open In Colab\"/></a>"
      ]
    },
    {
      "cell_type": "markdown",
      "source": [
        "#Material de apoio\n",
        "https://neylsoncrepalde.github.io/2016-10-09-redes-no-python-com-networkx/\n",
        "https://igraph.readthedocs.io/en/stable/api/index.html\n",
        "https://github.com/resendevinicius/CXN-MLL/blob/main/src/graphutils.py\n",
        "https://towardsdatascience.com/using-complex-networks-to-improve-machine-learning-methods-fe2c034f6de3\n",
        "https://scikit-learn.org/stable/modules/generated/sklearn.model_selection.train_test_split.html\n",
        "https://tnanukem.github.io/scikit-net/develop/getting_started/transforming_data.html\n"
      ],
      "metadata": {
        "id": "WNG_j_fPfEbL"
      }
    },
    {
      "cell_type": "code",
      "source": [
        "pip install python-igraph"
      ],
      "metadata": {
        "id": "c3IURx4Q2FBD"
      },
      "execution_count": null,
      "outputs": []
    },
    {
      "cell_type": "markdown",
      "source": [
        "#Primeiro método de transformação do gráfico e valores do mesmo"
      ],
      "metadata": {
        "id": "LI3F39k2gHl7"
      }
    },
    {
      "cell_type": "code",
      "execution_count": null,
      "metadata": {
        "id": "EX7M5vdPnU2-"
      },
      "outputs": [],
      "source": [
        "import igraph as ig\n",
        "import numpy as np\n",
        "import matplotlib as plt\n",
        "import matplotlib.pyplot as plt\n",
        "import numpy\n",
        "0\n",
        "from igraph import *\n",
        "from scipy.signal import savgol_filter\n",
        "from sklearn.metrics import classification_report\n",
        "from sklearn.metrics import euclidean_distances\n",
        "from sklearn.metrics import confusion_matrix\n",
        "from sklearn.model_selection import train_test_split\n",
        "from sklearn.model_selection import RepeatedStratifiedKFold\n",
        "from sklearn.preprocessing import normalize\n",
        "from sklearn.datasets import load_iris\n",
        "from sknet.network_construction import KNNEpislonRadiusConstructor\n",
        "from sknet.network_construction import KNNConstructor\n",
        "from sknet.supervised import HighLevelClassifier\n",
        "\n",
        "def PageRank(graph):\n",
        "    return ig.Graph.pagerank(graph)\n",
        "\n",
        "def graphgen(k, X, y):\n",
        "    euclidean_dist = euclidean_distances(X)\n",
        "    np.fill_diagonal(euclidean_dist, np.inf)\n",
        "    ind_ranking = np.argsort(euclidean_dist, axis=1)[:, :k]\n",
        "    mask = np.zeros((len(X), k)).astype(int)\n",
        "\n",
        "    for i in range(len(ind_ranking)):\n",
        "        mask[i] = (y[ind_ranking[i]] == y[i])\n",
        "\n",
        "    links = mask.nonzero()\n",
        "    sources = links[0]\n",
        "    targets = ind_ranking[links]\n",
        "    dists = euclidean_dist[sources, targets]\n",
        "\n",
        "    graph = ig.Graph(len(X), list(zip(sources.astype(int), targets.astype(int))), directed=True,\n",
        "                     edge_attrs={\"weight\": dists})\n",
        "    return graph\n",
        "    \n",
        "def sample_smoothing_differentiation_normalization(X):\n",
        "    X_sav = savgol_filter(X, 25, 4, 2, axis=1)\n",
        "    return X_sav / (np.linalg.norm(X_sav, 2, axis=1).reshape(-1, 1))\n",
        "\n",
        "def sample_amida1_normalization(X, amida1_ids):\n",
        "    return X / (np.max(X[:, amida1_ids], axis=1).reshape(-1, 1)) #Perguntar sobre o reshape \n",
        "    \n",
        "def load_ftir_data(filename):\n",
        "    data = np.loadtxt(filename)\n",
        "    return data[:,:-1], data[:,-1].astype(int)\n",
        "\n",
        "def alg(dataset):\n",
        "    X, y = load_ftir_data(dataset)\n",
        "    X = normalize(X)\n",
        "    outer_rskfcv = RepeatedStratifiedKFold(n_splits=10, n_repeats=3, random_state=np.random.seed(11))\n",
        "    for train_ids, test_ids in outer_rskfcv.split(X, y):\n",
        "        graph_train = graphgen(3, X[train_ids], y[train_ids])\n",
        "    return graph_train"
      ]
    },
    {
      "cell_type": "code",
      "source": [],
      "metadata": {
        "id": "rupTifphtGWL"
      },
      "execution_count": null,
      "outputs": []
    },
    {
      "cell_type": "code",
      "source": [
        "g = alg('/content/covid19_dataset_Maranhao200.dat')\n",
        "#\n",
        "#Criação da rede complexa utilizando métodos que a Janayna me mandou."
      ],
      "metadata": {
        "id": "_bcPi_DmTiaI"
      },
      "execution_count": null,
      "outputs": []
    },
    {
      "cell_type": "code",
      "source": [
        "g.assortativity?"
      ],
      "metadata": {
        "id": "MNa8b2gB6Gym"
      },
      "execution_count": null,
      "outputs": []
    },
    {
      "cell_type": "markdown",
      "source": [],
      "metadata": {
        "id": "eqYNq3IQJKIk"
      }
    },
    {
      "cell_type": "code",
      "source": [
        "print(\"Number of vertices in the graph:\", g.vcount())\n",
        "print(\"Number of edges in the graph\", g.ecount())\n",
        "print(\"Is the graph directed:\", g.is_directed())\n",
        "print(\"Maximum degree in the graph:\", g.maxdegree())\n",
        "\n",
        "print(\"Degrees in the graph:\", g.degree())\n",
        "print(\"transitividade in the graph:\", g.transitivity_undirected())\n",
        "\n",
        "print(\"Assortativity of the graph:\", g.assortativity_degree())\n",
        "print(\"Diameter:\", g.diameter())\n",
        "#Pega todos os caminhos para o vértice X. \n",
        "print(\"All shortest path : \", g.get_all_shortest_paths(20, to=None, weights=None, mode='out'))\n",
        "#Graph.knn() computes the average degree of the neighbors.\n",
        "\n",
        "print(\"Average degree of the neighbors:\", g.knn())\n",
        "print(g.bfs(0))\n",
        "#Busca em largura\n",
        "print(\"Density of the graph:\", 2*g.ecount()/(g.vcount()*(g.vcount()-1)))"
      ],
      "metadata": {
        "colab": {
          "base_uri": "https://localhost:8080/"
        },
        "id": "Y5zgOJVbe9zM",
        "outputId": "550b11c1-aeaf-43cf-dbe6-8fbb6f349c1f"
      },
      "execution_count": null,
      "outputs": [
        {
          "output_type": "stream",
          "name": "stdout",
          "text": [
            "Number of vertices in the graph: 180\n",
            "Number of edges in the graph 265\n",
            "Is the graph directed: True\n",
            "Maximum degree in the graph: 9\n",
            "Degrees in the graph: [1, 2, 0, 3, 3, 0, 4, 1, 5, 2, 4, 4, 0, 1, 4, 6, 1, 7, 3, 4, 1, 0, 5, 6, 4, 3, 1, 2, 1, 4, 3, 4, 2, 2, 1, 2, 3, 2, 2, 3, 8, 5, 2, 3, 0, 2, 1, 4, 1, 1, 3, 4, 3, 1, 1, 4, 6, 4, 4, 3, 2, 2, 1, 5, 3, 1, 6, 4, 4, 2, 1, 2, 3, 2, 1, 5, 4, 3, 3, 4, 2, 6, 3, 3, 2, 3, 2, 3, 2, 2, 3, 4, 3, 2, 2, 6, 1, 5, 3, 4, 4, 0, 1, 3, 7, 5, 4, 3, 5, 0, 1, 6, 3, 5, 6, 0, 2, 1, 2, 2, 0, 2, 2, 4, 2, 3, 1, 3, 0, 3, 5, 4, 4, 2, 5, 9, 3, 3, 0, 1, 5, 1, 7, 2, 3, 1, 3, 3, 6, 2, 8, 2, 1, 5, 2, 2, 2, 3, 4, 5, 3, 1, 2, 5, 0, 1, 2, 1, 3, 4, 4, 3, 7, 3, 2, 8, 3, 6, 2, 2]\n",
            "transitividade in the graph: 0.23076923076923078\n",
            "Assortativity of the graph: 0.07220102697837232\n",
            "Diameter: 10\n",
            "All shortest path :  [[20, 32, 89, 59, 7], [20], [20, 32], [20, 32, 89, 59, 53], [20, 32, 89, 59], [20, 32, 89]]\n",
            "Average degree of the neighbors: ([3.0, 1.5, nan, 5.0, 2.3333333333333335, nan, 2.25, 3.0, 2.6, 6.0, 3.0, 2.75, nan, 2.0, 5.0, 3.8333333333333335, 3.0, 4.142857142857143, 3.0, 3.25, 2.0, nan, 3.2, 3.8333333333333335, 4.0, 4.666666666666667, 5.0, 4.0, 3.0, 6.0, 4.666666666666667, 3.5, 1.5, 2.5, 4.0, 5.0, 4.333333333333333, 3.0, 3.5, 3.0, 3.25, 4.2, 5.0, 5.0, nan, 4.0, 6.0, 3.25, 6.0, 2.0, 4.333333333333333, 4.75, 4.333333333333333, 3.0, 3.0, 3.75, 3.1666666666666665, 4.25, 4.75, 1.3333333333333333, 2.5, 4.0, 4.0, 5.4, 3.3333333333333335, 4.0, 3.1666666666666665, 4.5, 6.5, 6.5, 2.0, 3.0, 2.3333333333333335, 4.0, 8.0, 3.2, 3.25, 2.3333333333333335, 4.0, 3.75, 2.0, 4.166666666666667, 3.6666666666666665, 4.666666666666667, 5.5, 5.0, 5.0, 3.0, 5.5, 2.5, 6.0, 3.0, 3.0, 6.5, 7.0, 4.166666666666667, 1.0, 5.4, 4.0, 6.5, 2.75, nan, 2.0, 3.3333333333333335, 4.0, 6.0, 2.5, 4.0, 4.6, nan, 1.0, 4.0, 4.333333333333333, 3.6, 5.166666666666667, nan, 3.0, 3.0, 2.0, 5.5, nan, 6.5, 5.5, 4.25, 6.0, 5.0, 3.0, 3.3333333333333335, nan, 3.3333333333333335, 5.0, 6.0, 6.5, 2.0, 6.0, 4.333333333333333, 3.3333333333333335, 3.0, nan, 4.0, 5.2, 4.0, 4.714285714285714, 2.5, 1.3333333333333333, 3.0, 4.0, 4.0, 4.666666666666667, 4.0, 4.0, 8.0, 2.0, 4.2, 4.0, 6.0, 5.5, 7.666666666666667, 4.75, 5.8, 3.0, 2.0, 5.5, 5.4, nan, 3.0, 4.0, 4.0, 3.3333333333333335, 3.5, 6.0, 2.0, 4.142857142857143, 3.0, 7.0, 4.125, 5.333333333333333, 4.166666666666667, 4.0, 1.0], [3.2758620689655173, 4.3, 3.7606837606837606, 4.231481481481482, 4.653333333333334, 4.033333333333333, 4.25, 3.7916666666666665, 4.333333333333333])\n",
            "([0, 77, 28, 41, 17, 35, 14, 85], [0, 1, 2, 4, 6, 8], [-1, -2, -2, -2, -2, -2, -2, -2, -2, -2, -2, -2, -2, -2, 17, -2, -2, 41, -2, -2, -2, -2, -2, -2, -2, -2, -2, -2, 77, -2, -2, -2, -2, -2, -2, 41, -2, -2, -2, -2, -2, 77, -2, -2, -2, -2, -2, -2, -2, -2, -2, -2, -2, -2, -2, -2, -2, -2, -2, -2, -2, -2, -2, -2, -2, -2, -2, -2, -2, -2, -2, -2, -2, -2, -2, -2, -2, 0, -2, -2, -2, -2, -2, -2, -2, 17, -2, -2, -2, -2, -2, -2, -2, -2, -2, -2, -2, -2, -2, -2, -2, -2, -2, -2, -2, -2, -2, -2, -2, -2, -2, -2, -2, -2, -2, -2, -2, -2, -2, -2, -2, -2, -2, -2, -2, -2, -2, -2, -2, -2, -2, -2, -2, -2, -2, -2, -2, -2, -2, -2, -2, -2, -2, -2, -2, -2, -2, -2, -2, -2, -2, -2, -2, -2, -2, -2, -2, -2, -2, -2, -2, -2, -2, -2, -2, -2, -2, -2, -2, -2, -2, -2, -2, -2, -2, -2, -2, -2, -2, -2])\n",
            "Density of the graph: 0.016449410304158908\n"
          ]
        }
      ]
    },
    {
      "cell_type": "code",
      "source": [
        "fig, axs = plt.subplots(1, 2, figsize=(8, 4))\n",
        "\n",
        "ig.plot(g, target=axs[0])\n",
        "\n",
        "plt.hist(g.degree(),align='mid', width=0.8, edgecolor='black', color='green', alpha=.5)\n",
        "plt.title('Histograma do Grau')\n",
        "plt.show()"
      ],
      "metadata": {
        "colab": {
          "base_uri": "https://localhost:8080/",
          "height": 281
        },
        "id": "IgwzlVgvUpTe",
        "outputId": "09a8be96-2dfe-45eb-ad54-8a43a9268bda"
      },
      "execution_count": null,
      "outputs": [
        {
          "output_type": "display_data",
          "data": {
            "text/plain": [
              "<Figure size 576x288 with 2 Axes>"
            ],
            "image/png": "[encoded data removed]"
          },
          "metadata": {
            "needs_background": "light"
          }
        }
      ]
    },
    {
      "cell_type": "markdown",
      "source": [
        "#Segundo maneira de construir utilizando SKnet e também fazendo avaliação da rede."
      ],
      "metadata": {
        "id": "CpocSsmtgM4Y"
      }
    },
    {
      "cell_type": "code",
      "source": [
        "wavsname=\"/content/wavenumbers.dat\" \n",
        "filename=\"/content/covid19_dataset_Maranhao200.dat\"\n",
        "\n",
        "X, y = load_ftir_data(filename)\n",
        "wavs = np.loadtxt(wavsname)\n",
        "\n",
        "amida1_ids = np.where(np.logical_and(wavs>=1630, wavs<=1660))[0]\n",
        "\n",
        "g = alg(filename)"
      ],
      "metadata": {
        "id": "OMzkKw2E2Ox1"
      },
      "execution_count": null,
      "outputs": []
    },
    {
      "cell_type": "code",
      "source": [
        "#Transformar dado tabelado em rede complexa/grafo.\n",
        "ke_c = KNNEpislonRadiusConstructor(k=3, epsilon=0.3)\n",
        "ke_c.fit(X, y)\n",
        "G = ke_c.transform()"
      ],
      "metadata": {
        "id": "SJJyhBLse8Bn"
      },
      "execution_count": null,
      "outputs": []
    },
    {
      "cell_type": "markdown",
      "source": [
        "#Treinamento dos dados"
      ],
      "metadata": {
        "id": "qlbCZEH6p6y1"
      }
    },
    {
      "cell_type": "code",
      "source": [
        "X_train, X_test, y_train, y_test = train_test_split(X, y,\n",
        "                                                    test_size=0.25)\n",
        "knn_c = KNNConstructor(k=2)\n",
        "classifier = HighLevelClassifier()\n",
        "classifier.fit(X_train, y_train, constructor=knn_c)\n",
        "pred = classifier.predict(X_test)"
      ],
      "metadata": {
        "colab": {
          "base_uri": "https://localhost:8080/"
        },
        "id": "_fXoEZqTYDCK",
        "outputId": "3a11dd39-ebd1-4767-98be-5716bf4118ec"
      },
      "execution_count": null,
      "outputs": [
        {
          "output_type": "stream",
          "name": "stderr",
          "text": [
            "50it [00:02, 17.29it/s]\n"
          ]
        }
      ]
    },
    {
      "cell_type": "markdown",
      "source": [
        "#Avaliação dos dados sem normalização (Amida 1 e Sav golay)"
      ],
      "metadata": {
        "id": "9a6GqLf5p8uq"
      }
    },
    {
      "cell_type": "code",
      "source": [
        "cm = confusion_matrix(y_test, pred)\n",
        "#por algum motivo a matriz de confusão ficou com uma linha e coluna extra\n",
        "cm = numpy.delete(cm, 1, 0)\n",
        "cm = numpy.delete(cm, 0, 1)\n",
        "\n",
        "print('Matriz de confusão:\\n', cm)\n",
        "\n",
        "print('\\nAcurácia: ', np.sum(np.diagonal(cm))/np.sum(cm))\n",
        "print(\"Sensibilidade: \",cm[1,1]/np.sum(cm[1]))\n",
        "print(\"Especificidade:\", cm[0,0]/np.sum(cm[0]))"
      ],
      "metadata": {
        "colab": {
          "base_uri": "https://localhost:8080/"
        },
        "id": "rZHL_59NkmGg",
        "outputId": "153bd7da-7afd-4985-9ade-e9363ecc6cc8"
      },
      "execution_count": null,
      "outputs": [
        {
          "output_type": "stream",
          "name": "stdout",
          "text": [
            "Matriz de confusão:\n",
            " [[11 12]\n",
            " [13 14]]\n",
            "\n",
            "Acurácia:  0.5\n",
            "Sensibilidade:  0.5185185185185185\n",
            "Especificidade: 0.4782608695652174\n"
          ]
        }
      ]
    },
    {
      "cell_type": "markdown",
      "source": [
        "#Aplicando normalização"
      ],
      "metadata": {
        "id": "g8jouK4IqKCr"
      }
    },
    {
      "cell_type": "code",
      "source": [
        "#Normalizando os dados:\n",
        "X, y = load_ftir_data(filename)\n",
        "\n",
        "amida1_ids = np.where(np.logical_and(wavs>=1630, wavs<=1660))[0]\n",
        "\n",
        "X = sample_amida1_normalization(X, amida1_ids)\n",
        "X = sample_smoothing_differentiation_normalization(X)"
      ],
      "metadata": {
        "id": "xVx1b-ZepuFu"
      },
      "execution_count": null,
      "outputs": []
    },
    {
      "cell_type": "markdown",
      "source": [
        "#Treinamento e avaliação dos dados normalizados"
      ],
      "metadata": {
        "id": "IKkoSuHbqLwe"
      }
    },
    {
      "cell_type": "code",
      "source": [
        "X_train, X_test, y_train, y_test = train_test_split(X, y,\n",
        "                                                    test_size=0.25)\n",
        "knn_c = KNNConstructor(k=5)\n",
        "classifier = HighLevelClassifier()\n",
        "classifier.fit(X_train, y_train, constructor=knn_c)\n",
        "pred = classifier.predict(X_test)\n",
        "\n",
        "cm = confusion_matrix(y_test, pred)\n",
        "cm = numpy.delete(cm, 1, 0)\n",
        "cm = numpy.delete(cm, 0, 1)\n",
        "\n",
        "print('\\n Matriz de confusão:\\n', cm)\n",
        "\n",
        "print('\\nAcurácia: ', np.sum(np.diagonal(cm))/np.sum(cm))\n",
        "print(\"Sensibilidade: \",cm[1,1]/np.sum(cm[1]))\n",
        "print(\"Especificidade:\", cm[0,0]/np.sum(cm[0]))"
      ],
      "metadata": {
        "colab": {
          "base_uri": "https://localhost:8080/"
        },
        "id": "RL2xR_tDqHhr",
        "outputId": "7d0c1427-d94c-4aca-e58a-43e165fcb144"
      },
      "execution_count": null,
      "outputs": [
        {
          "output_type": "stream",
          "name": "stderr",
          "text": [
            "50it [00:03, 12.67it/s]"
          ]
        },
        {
          "output_type": "stream",
          "name": "stdout",
          "text": [
            "Matriz de confusão:\n",
            " [[15 12]\n",
            " [ 6 17]]\n",
            "\n",
            "Acurácia:  0.64\n",
            "Sensibilidade:  0.7391304347826086\n",
            "Especificidade: 0.5555555555555556\n"
          ]
        },
        {
          "output_type": "stream",
          "name": "stderr",
          "text": [
            "\n"
          ]
        }
      ]
    },
    {
      "cell_type": "markdown",
      "source": [],
      "metadata": {
        "id": "FE7Mqt0fnBBH"
      }
    }
  ]
}